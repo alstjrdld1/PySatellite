{
 "cells": [
  {
   "cell_type": "code",
   "execution_count": 2,
   "metadata": {},
   "outputs": [],
   "source": [
    "from libs.SatelliteEnvironment import *\n"
   ]
  },
  {
   "cell_type": "code",
   "execution_count": 3,
   "metadata": {},
   "outputs": [],
   "source": [
    "env = CircularOrbit()\n",
    "\n",
    "model = DQN()\n",
    "\n",
    "episodes = 4000\n",
    "\n",
    "for i in range(episodes):\n",
    "    env.reset()\n",
    "    ep_reward = 0\n",
    "    \n",
    "    while True:\n",
    "        state = env.get_state()\n",
    "        action = model.choose_action(state)\n",
    "        \n",
    "        transmission_time, reward, done, info = env.step(action)\n",
    "        \n",
    "        model.store_transition(state, action, reward, next_state)\n",
    "        ep_reward += reward\n",
    "        \n",
    "        if model.memory_counter >= MEMORY_CAPACITY:\n",
    "            model.learn()\n",
    "            if done:\n",
    "                print(\"episode: {} , the episode reward is {}\".format(i, round(ep_reward, 3)))\n",
    "        if done:\n",
    "            break"
   ]
  },
  {
   "cell_type": "code",
   "execution_count": null,
   "metadata": {},
   "outputs": [],
   "source": []
  }
 ],
 "metadata": {
  "kernelspec": {
   "display_name": "Python 3 (ipykernel)",
   "language": "python",
   "name": "python3"
  },
  "language_info": {
   "codemirror_mode": {
    "name": "ipython",
    "version": 3
   },
   "file_extension": ".py",
   "mimetype": "text/x-python",
   "name": "python",
   "nbconvert_exporter": "python",
   "pygments_lexer": "ipython3",
   "version": "3.7.12"
  }
 },
 "nbformat": 4,
 "nbformat_minor": 2
}
