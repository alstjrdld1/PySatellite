{
 "cells": [
  {
   "cell_type": "code",
   "execution_count": 1,
   "metadata": {},
   "outputs": [
    {
     "name": "stderr",
     "output_type": "stream",
     "text": [
      "C:\\Users\\minstone\\AppData\\Local\\Packages\\PythonSoftwareFoundation.Python.3.9_qbz5n2kfra8p0\\LocalCache\\local-packages\\Python39\\site-packages\\tqdm\\auto.py:22: TqdmWarning: IProgress not found. Please update jupyter and ipywidgets. See https://ipywidgets.readthedocs.io/en/stable/user_install.html\n",
      "  from .autonotebook import tqdm as notebook_tqdm\n"
     ]
    }
   ],
   "source": [
    "from libs.SatelliteEnvironment import *\n",
    "from libs.DRLAgents.DQN import DQN\n",
    "from torch.utils.tensorboard import SummaryWriter\n",
    "\n",
    "import numpy as np\n",
    "import torch "
   ]
  },
  {
   "cell_type": "code",
   "execution_count": 2,
   "metadata": {
    "scrolled": true
   },
   "outputs": [
    {
     "name": "stdout",
     "output_type": "stream",
     "text": [
      "108.91342261475782\n",
      "337.01270630537624\n",
      "108.91342261475782\n",
      "121.82019183023519\n",
      "123.99433452460164\n",
      "108.91342261475782\n",
      "108.91342261475782\n",
      "108.91342261475782\n",
      "108.91342261475782\n",
      "108.91342261475782\n",
      "108.91342261475782\n",
      "108.91342261475782\n",
      "108.91342261475782\n",
      "337.01270630537624\n",
      "108.91342261475782\n",
      "108.91342261475782\n",
      "108.91342261475782\n",
      "108.91342261475782\n",
      "108.91342261475782\n",
      "108.91342261475782\n",
      "108.91342261475782\n",
      "121.82019183023519\n",
      "123.99433452460164\n",
      "108.91342261475782\n",
      "4.827790596139948\n",
      "-5.287554837937847\n"
     ]
    },
    {
     "ename": "ValueError",
     "evalue": "math domain error",
     "output_type": "error",
     "traceback": [
      "\u001b[1;31m---------------------------------------------------------------------------\u001b[0m",
      "\u001b[1;31mValueError\u001b[0m                                Traceback (most recent call last)",
      "\u001b[1;32md:\\pySatellite\\test_bed.ipynb Cell 2\u001b[0m in \u001b[0;36m2\n\u001b[0;32m     <a href='vscode-notebook-cell:/d%3A/pySatellite/test_bed.ipynb#W1sZmlsZQ%3D%3D?line=20'>21</a>\u001b[0m state \u001b[39m=\u001b[39m env\u001b[39m.\u001b[39mget_state()\n\u001b[0;32m     <a href='vscode-notebook-cell:/d%3A/pySatellite/test_bed.ipynb#W1sZmlsZQ%3D%3D?line=22'>23</a>\u001b[0m action \u001b[39m=\u001b[39m model\u001b[39m.\u001b[39mchoose_action(state)\n\u001b[1;32m---> <a href='vscode-notebook-cell:/d%3A/pySatellite/test_bed.ipynb#W1sZmlsZQ%3D%3D?line=24'>25</a>\u001b[0m reward, done, info \u001b[39m=\u001b[39m env\u001b[39m.\u001b[39;49mstep(action)\n\u001b[0;32m     <a href='vscode-notebook-cell:/d%3A/pySatellite/test_bed.ipynb#W1sZmlsZQ%3D%3D?line=26'>27</a>\u001b[0m next_state \u001b[39m=\u001b[39m env\u001b[39m.\u001b[39mget_state()\n\u001b[0;32m     <a href='vscode-notebook-cell:/d%3A/pySatellite/test_bed.ipynb#W1sZmlsZQ%3D%3D?line=28'>29</a>\u001b[0m model\u001b[39m.\u001b[39mstore_transition(state, action, reward, next_state)\n",
      "File \u001b[1;32md:\\pySatellite\\libs\\SatelliteEnvironment.py:85\u001b[0m, in \u001b[0;36mCircularOrbit.step\u001b[1;34m(self, action)\u001b[0m\n\u001b[0;32m     82\u001b[0m done \u001b[39m=\u001b[39m \u001b[39mFalse\u001b[39;00m\n\u001b[0;32m     84\u001b[0m \u001b[39mif\u001b[39;00m action \u001b[39min\u001b[39;00m \u001b[39mself\u001b[39m\u001b[39m.\u001b[39mlos():\n\u001b[1;32m---> 85\u001b[0m     reward \u001b[39m=\u001b[39m \u001b[39mself\u001b[39;49m\u001b[39m.\u001b[39;49mget_reward(tp \u001b[39m=\u001b[39;49m _tp, sat\u001b[39m=\u001b[39;49m(_sat_orbit, _sat_idx))\n\u001b[0;32m     87\u001b[0m     transmission_time \u001b[39m=\u001b[39m propagation_latency(\u001b[39mself\u001b[39m\u001b[39m.\u001b[39mget_current_satellite(), _target_satellite)\n\u001b[0;32m     89\u001b[0m     \u001b[39mself\u001b[39m\u001b[39m.\u001b[39mrest_time \u001b[39m-\u001b[39m\u001b[39m=\u001b[39m transmission_time\n",
      "File \u001b[1;32md:\\pySatellite\\libs\\SatelliteEnvironment.py:61\u001b[0m, in \u001b[0;36mCircularOrbit.get_reward\u001b[1;34m(self, tp, sat)\u001b[0m\n\u001b[0;32m     58\u001b[0m _target_sat \u001b[39m=\u001b[39m \u001b[39mself\u001b[39m\u001b[39m.\u001b[39mget_satellite(_sat_orbit, _sat_idx)\n\u001b[0;32m     59\u001b[0m _dist \u001b[39m=\u001b[39m get_distance(\u001b[39mself\u001b[39m\u001b[39m.\u001b[39mget_current_satellite(), _target_sat)\n\u001b[1;32m---> 61\u001b[0m _cp \u001b[39m=\u001b[39m channel_capacity(transmit_power\u001b[39m=\u001b[39;49m\u001b[39mself\u001b[39;49m\u001b[39m.\u001b[39;49mtp, \n\u001b[0;32m     62\u001b[0m                        distance\u001b[39m=\u001b[39;49m_dist, \n\u001b[0;32m     63\u001b[0m                        velocity\u001b[39m=\u001b[39;49m\u001b[39mself\u001b[39;49m\u001b[39m.\u001b[39;49mget_current_satellite()\u001b[39m.\u001b[39;49mget_velocity_mag(), \n\u001b[0;32m     64\u001b[0m                        propagation_velocity_angle\u001b[39m=\u001b[39;49m\u001b[39mself\u001b[39;49m\u001b[39m.\u001b[39;49mlos_propagation_angle_list[_sat_orbit][_sat_idx])\n\u001b[0;32m     65\u001b[0m _transmission_time \u001b[39m=\u001b[39m propagation_latency(\u001b[39mself\u001b[39m\u001b[39m.\u001b[39mget_current_satellite(), _target_sat)\n\u001b[0;32m     67\u001b[0m \u001b[39mif\u001b[39;00m(_transmission_time \u001b[39m==\u001b[39m \u001b[39m0\u001b[39m):\n",
      "File \u001b[1;32md:\\pySatellite\\libs\\pySatelliteUtils.py:229\u001b[0m, in \u001b[0;36mchannel_capacity\u001b[1;34m(transmit_power, distance, velocity, propagation_velocity_angle)\u001b[0m\n\u001b[0;32m    227\u001b[0m _snr \u001b[39m=\u001b[39m _Pr \u001b[39m-\u001b[39m _Pn\n\u001b[0;32m    228\u001b[0m \u001b[39mprint\u001b[39m(_snr)\n\u001b[1;32m--> 229\u001b[0m \u001b[39mreturn\u001b[39;00m BAND_WIDTH \u001b[39m*\u001b[39m math\u001b[39m.\u001b[39;49mlog2(\u001b[39m1\u001b[39;49m\u001b[39m+\u001b[39;49m_snr)\n",
      "\u001b[1;31mValueError\u001b[0m: math domain error"
     ]
    }
   ],
   "source": [
    "env = CircularOrbit()\n",
    "\n",
    "state = env.get_state()\n",
    "\n",
    "num_states = state.shape[0]\n",
    "orbit_num  = env.orbit_num\n",
    "sat_num    = env.satellite_num\n",
    "num_action = orbit_num * sat_num\n",
    "\n",
    "model      = DQN(num_states = num_states,\n",
    "                 num_action = num_action)\n",
    "\n",
    "writer     = SummaryWriter('runs/satellite')\n",
    "episodes   = 10000\n",
    "\n",
    "for i in range(episodes):\n",
    "    env.reset()\n",
    "    ep_reward = 0\n",
    "    ep_loss = 0 \n",
    "    while True:\n",
    "        state = env.get_state()\n",
    "        \n",
    "        action = model.choose_action(state)\n",
    "\n",
    "        reward, done, info = env.step(action) # \n",
    "        \n",
    "        next_state = env.get_state() # \n",
    "        \n",
    "        model.store_transition(state, action, reward, next_state) # \n",
    "        ep_reward += reward\n",
    "\n",
    "        if model.memory_counter >= MEMORY_CAPACITY:\n",
    "\n",
    "            loss = model.learn(network_iteration= 100,\n",
    "                                batch_size= 32,\n",
    "                                gamma=0.9)\n",
    "            ep_loss += loss\n",
    "            if done:\n",
    "                print(\"episode: {} , the episode reward is {}\".format(i, round(ep_reward, 3)))\n",
    "        if done:\n",
    "            break\n",
    "\n",
    "    writer.add_scalar('Episode Reward', ep_reward, i)\n",
    "    writer.add_scalar('Episode Loss', ep_loss, i)\n",
    "\n",
    "writer.close()"
   ]
  },
  {
   "cell_type": "code",
   "execution_count": null,
   "metadata": {},
   "outputs": [],
   "source": []
  }
 ],
 "metadata": {
  "kernelspec": {
   "display_name": "Python 3 (ipykernel)",
   "language": "python",
   "name": "python3"
  },
  "language_info": {
   "codemirror_mode": {
    "name": "ipython",
    "version": 3
   },
   "file_extension": ".py",
   "mimetype": "text/x-python",
   "name": "python",
   "nbconvert_exporter": "python",
   "pygments_lexer": "ipython3",
   "version": "3.9.13"
  }
 },
 "nbformat": 4,
 "nbformat_minor": 2
}
