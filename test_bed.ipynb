{
 "cells": [
  {
   "cell_type": "code",
   "execution_count": 1,
   "metadata": {},
   "outputs": [],
   "source": [
    "from libs.AirCraft import *"
   ]
  },
  {
   "cell_type": "code",
   "execution_count": 2,
   "metadata": {},
   "outputs": [],
   "source": [
    "orbit1_alt = 300 # km \n",
    "orbit2_alt = 500 # km \n",
    "\n",
    "sat1_1 = Satellite()"
   ]
  },
  {
   "cell_type": "code",
   "execution_count": 3,
   "metadata": {},
   "outputs": [
    {
     "name": "stdout",
     "output_type": "stream",
     "text": [
      "[(5.0, 0.0), (3.5355339059327378, 3.5355339059327378), (3.061616997868383e-16, 5.0), (-3.5355339059327373, 3.5355339059327378), (-5.0, 6.123233995736766e-16), (-3.5355339059327386, -3.5355339059327373), (-9.184850993605148e-16, -5.0), (3.535533905932737, -3.5355339059327386)]\n"
     ]
    }
   ],
   "source": [
    "import math\n",
    "\n",
    "def get_points_on_circle(d: float, num_points: int) -> list:\n",
    "    points = []\n",
    "    theta_gap = 2 * math.pi / num_points  # 일정한 간격\n",
    "    for i in range(num_points):\n",
    "        theta = i * theta_gap\n",
    "        x = d * math.cos(theta)\n",
    "        y = d * math.sin(theta)\n",
    "        points.append((x, y))\n",
    "    return points\n",
    "\n",
    "points = get_points_on_circle(5, 8)\n",
    "print(points)\n"
   ]
  },
  {
   "cell_type": "code",
   "execution_count": null,
   "metadata": {},
   "outputs": [],
   "source": []
  }
 ],
 "metadata": {
  "kernelspec": {
   "display_name": "Python 3",
   "language": "python",
   "name": "python3"
  },
  "language_info": {
   "codemirror_mode": {
    "name": "ipython",
    "version": 3
   },
   "file_extension": ".py",
   "mimetype": "text/x-python",
   "name": "python",
   "nbconvert_exporter": "python",
   "pygments_lexer": "ipython3",
   "version": "3.9.13"
  },
  "orig_nbformat": 4
 },
 "nbformat": 4,
 "nbformat_minor": 2
}
